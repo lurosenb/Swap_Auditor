{
 "cells": [
  {
   "cell_type": "code",
   "execution_count": 1,
   "metadata": {},
   "outputs": [],
   "source": [
    "import pandas as pd\n",
    "import numpy as np\n",
    "import matplotlib.pyplot as plt\n",
    "import seaborn as sns\n",
    "from sklearn.ensemble import RandomForestClassifier\n",
    "from sklearn.metrics import classification_report\n",
    "from sklearn.model_selection import train_test_split\n",
    "\n",
    "from aequitas.group import Group\n",
    "from aequitas.bias import Bias\n",
    "from aequitas.fairness import Fairness\n",
    "from aequitas.preprocessing import preprocess_input_df\n",
    "import aequitas.plot as ap\n"
   ]
  },
  {
   "cell_type": "markdown",
   "metadata": {},
   "source": [
    "### Set up data"
   ]
  },
  {
   "cell_type": "code",
   "execution_count": 5,
   "metadata": {},
   "outputs": [],
   "source": [
    "toy_columns = ['StudentId',\n",
    "# .66 Acc RF\n",
    "'Sex',\n",
    "'Race',\n",
    "'CompositeGrades',\n",
    "'StandardizedTestQuartile',\n",
    "'CategoricalGrades',\n",
    "\n",
    "# .86 Acc RF (with base), .96 (second two), .58 (alone)\n",
    "'TimeSpentOnHomeworkInSchool',\n",
    "'TimeSpentOnHomeworkOutOfSchool',\n",
    "'TimeSpentOnExtracurriculars',\n",
    "'HelpWithEssays',\n",
    "'ParentsCheckHomework',\n",
    "\n",
    "# .92 Acc FR (with base), .82 (alone)\n",
    "'HighSchoolHelpedWithSchoolApplication',\n",
    "'HelpedWithFinancialAidApp',\n",
    "'ParentsHighestLevelEducation',\n",
    "'Socio-economicStatusQuartile',\n",
    "'PrivateSchoolExpenses',\n",
    "'PrivateTutoringExpenses',\n",
    "'Tutored',\n",
    "'FathersWishes',\n",
    "'MothersWishes',\n",
    "\n",
    "'GradesUndergrad']\n",
    "target_col = 'GradesUndergrad'"
   ]
  },
  {
   "cell_type": "code",
   "execution_count": 6,
   "metadata": {},
   "outputs": [],
   "source": [
    "nels = pd.read_csv('data/NELS_Filtered.csv')\n",
    "nels_columns = pd.read_csv('data/NELS_Subset_Columns.csv')\n",
    "nels_columns_readable = pd.read_csv('data/NELS_Subset_Columns_Human_Readable.csv')\n",
    "nels_subset = nels[list(nels_columns.columns)]\n",
    "nels_subset.columns = list(nels_columns_readable.columns)"
   ]
  },
  {
   "cell_type": "code",
   "execution_count": 7,
   "metadata": {},
   "outputs": [],
   "source": [
    "# Run this cell to downsample\n",
    "from sklearn.utils import resample\n",
    "def resample_up_down(dataframe, upsample=True, target_col=target_col):\n",
    "    # Separate majority and minority classes\n",
    "    df_majority = dataframe[dataframe[target_col]==1]\n",
    "    df_minority = dataframe[dataframe[target_col]==0]\n",
    "    \n",
    "    if upsample:\n",
    "        # Upsample minority class\n",
    "        df_minority_upsampled = resample(df_minority, \n",
    "                                        replace=True,\n",
    "                                        n_samples=len(df_majority),\n",
    "                                        random_state=0)\n",
    "    \n",
    "        # Combine majority class with upsampled minority class\n",
    "        df_resampled = pd.concat([df_majority, df_minority_upsampled])\n",
    "    else:\n",
    "        # Downsample majority class\n",
    "        df_majority_downsampled = resample(df_majority, \n",
    "                                        replace=False,\n",
    "                                        n_samples=len(df_minority),\n",
    "                                        random_state=0) \n",
    "        \n",
    "        # Combine minority class with downsampled majority class\n",
    "        df_resampled = pd.concat([df_majority_downsampled, df_minority])\n",
    "        \n",
    "    # Display new class counts\n",
    "    print(df_resampled[target_col].value_counts())\n",
    "\n",
    "    return df_resampled"
   ]
  },
  {
   "cell_type": "code",
   "execution_count": 8,
   "metadata": {},
   "outputs": [
    {
     "name": "stdout",
     "output_type": "stream",
     "text": [
      "1    5154\n",
      "0    5154\n",
      "Name: GradesUndergrad, dtype: int64\n"
     ]
    }
   ],
   "source": [
    "# Only valid grades\n",
    "toy_dataframe = nels_subset[(1 <= nels_subset[target_col]) & (nels_subset[target_col] <= 7)]\n",
    "\n",
    "# Only white/black nonhispanic\n",
    "toy_dataframe = toy_dataframe[(3 <= toy_dataframe['Race']) & (toy_dataframe['Race'] <= 4)]\n",
    "\n",
    "# Shuffle randomly before training models\n",
    "toy_dataframe = toy_dataframe.sample(frac=1).reset_index(drop=True)\n",
    "\n",
    "toy_dataframe = toy_dataframe[toy_columns]\n",
    "\n",
    "# Make binary decision >= 2.75 GPA\n",
    "toy_dataframe[target_col] = np.where(toy_dataframe[target_col] <= 3, 1, 0)\n",
    "make_string = False\n",
    "\n",
    "if make_string:\n",
    "    # Make binary decision >= 2.75 GPA\n",
    "    toy_dataframe[\"Race\"] = np.where(toy_dataframe[\"Race\"] == 3, \"Black\", \"White\")\n",
    "    toy_dataframe[\"Sex\"] = np.where(toy_dataframe[\"Sex\"] == 1, \"Male\", \"Female\")\n",
    "\n",
    "toy_dataframe = resample_up_down(toy_dataframe, upsample=True, target_col=target_col)\n",
    "\n",
    "# Withhold columns that are improper for prediction (like having completed PSE)\n",
    "columns_to_withhold = [\"StudentId\"]\n",
    "\n",
    "X = toy_dataframe[toy_dataframe.columns.difference([target_col]+columns_to_withhold)]\n",
    "y = toy_dataframe[target_col]"
   ]
  },
  {
   "cell_type": "markdown",
   "metadata": {},
   "source": [
    "### Train classifier"
   ]
  },
  {
   "cell_type": "code",
   "execution_count": 9,
   "metadata": {},
   "outputs": [],
   "source": [
    "def set_cols_zero(df, cols):\n",
    "    for col in cols:\n",
    "        df[col] = 0\n",
    "    return df"
   ]
  },
  {
   "cell_type": "code",
   "execution_count": 24,
   "metadata": {},
   "outputs": [
    {
     "name": "stdout",
     "output_type": "stream",
     "text": [
      "              precision    recall  f1-score   support\n",
      "\n",
      "           0       0.92      0.97      0.94      1048\n",
      "           1       0.97      0.91      0.94      1014\n",
      "\n",
      "    accuracy                           0.94      2062\n",
      "   macro avg       0.94      0.94      0.94      2062\n",
      "weighted avg       0.94      0.94      0.94      2062\n",
      "\n"
     ]
    }
   ],
   "source": [
    "x_train, x_test, y_train, y_test = train_test_split(X, y, test_size=0.2, random_state=0)\n",
    "\n",
    "x_test_with_protected = x_test.copy()\n",
    "x_train = set_cols_zero(x_train, ['Sex', 'Race'])\n",
    "x_test = set_cols_zero(x_test, ['Sex', 'Race'])\n",
    "\n",
    "\n",
    "rf = RandomForestClassifier() # max_iter=1000 \n",
    "rf.fit(x_train, y_train)\n",
    "\n",
    "predictions = rf.predict(x_test)\n",
    "\n",
    "print(classification_report(y_test, predictions)) # target_names=target_names"
   ]
  },
  {
   "cell_type": "markdown",
   "metadata": {},
   "source": [
    "### Run Aequitas"
   ]
  },
  {
   "cell_type": "code",
   "execution_count": 25,
   "metadata": {},
   "outputs": [],
   "source": [
    "def get_sex_string(sex):\n",
    "    if sex == 1:\n",
    "        return \"Male\" \n",
    "    elif sex == 2:\n",
    "        return \"Female\"\n",
    "    else:\n",
    "        return \"Not specified\"\n",
    "\n",
    "def get_race_string(race):\n",
    "    if race == 3:\n",
    "        return \"Black\"\n",
    "    elif race == 4:\n",
    "        return \"White\"\n",
    "    else:\n",
    "        return \"Other\""
   ]
  },
  {
   "cell_type": "code",
   "execution_count": 26,
   "metadata": {},
   "outputs": [],
   "source": [
    "predictions_df = pd.DataFrame(predictions, columns=['score'])\n",
    "df = pd.concat([x_test_with_protected, y_test], axis=1).reset_index(drop=True)\n",
    "df = pd.concat([df, predictions_df], axis=1)\n",
    "df = df.rename(columns={'GradesUndergrad': 'label_value'})\n",
    "df = df[['label_value', 'score', 'Sex', 'Race']]\n",
    "\n",
    "\n",
    "df['Sex'] = df.apply(lambda x: get_sex_string(x.Sex), axis=1)\n",
    "df['Race'] = df.apply(lambda x: get_race_string(x.Race), axis=1)\n",
    "df['score'] = df.apply(lambda x: int(x.score), axis=1)\n",
    "\n",
    "df_train = df.copy()\n",
    "df_train['Sex']\n",
    "\n",
    "attributes_and_reference_groups = {'Sex': 'Female', 'Race': 'Black'}\n",
    "attributes_to_audit = list(attributes_and_reference_groups.keys())\n"
   ]
  },
  {
   "cell_type": "code",
   "execution_count": 27,
   "metadata": {},
   "outputs": [],
   "source": [
    "df.to_csv('aequitas_data.csv')"
   ]
  },
  {
   "cell_type": "code",
   "execution_count": 28,
   "metadata": {},
   "outputs": [
    {
     "name": "stdout",
     "output_type": "stream",
     "text": [
      "get_disparity_predefined_group()\n"
     ]
    }
   ],
   "source": [
    "g = Group()\n",
    "b = Bias()\n",
    "\n",
    "# get_crosstabs returns a dataframe of the group counts and group value bias metrics.\n",
    "xtab, _ = g.get_crosstabs(df, attr_cols=attributes_to_audit)\n",
    "bdf = b.get_disparity_predefined_groups(xtab, original_df=df, ref_groups_dict=attributes_and_reference_groups)"
   ]
  },
  {
   "cell_type": "markdown",
   "metadata": {},
   "source": [
    "### Examine fairness results"
   ]
  },
  {
   "cell_type": "code",
   "execution_count": 29,
   "metadata": {},
   "outputs": [
    {
     "data": {
      "text/html": [
       "<div>\n",
       "<style scoped>\n",
       "    .dataframe tbody tr th:only-of-type {\n",
       "        vertical-align: middle;\n",
       "    }\n",
       "\n",
       "    .dataframe tbody tr th {\n",
       "        vertical-align: top;\n",
       "    }\n",
       "\n",
       "    .dataframe thead th {\n",
       "        text-align: right;\n",
       "    }\n",
       "</style>\n",
       "<table border=\"1\" class=\"dataframe\">\n",
       "  <thead>\n",
       "    <tr style=\"text-align: right;\">\n",
       "      <th></th>\n",
       "      <th>model_id</th>\n",
       "      <th>score_threshold</th>\n",
       "      <th>attribute_name</th>\n",
       "      <th>Statistical Parity</th>\n",
       "      <th>Impact Parity</th>\n",
       "      <th>FDR Parity</th>\n",
       "      <th>FPR Parity</th>\n",
       "      <th>FOR Parity</th>\n",
       "      <th>FNR Parity</th>\n",
       "      <th>TPR Parity</th>\n",
       "      <th>TNR Parity</th>\n",
       "      <th>NPV Parity</th>\n",
       "      <th>Precision Parity</th>\n",
       "      <th>TypeI Parity</th>\n",
       "      <th>TypeII Parity</th>\n",
       "      <th>Equalized Odds</th>\n",
       "      <th>Unsupervised Fairness</th>\n",
       "      <th>Supervised Fairness</th>\n",
       "    </tr>\n",
       "  </thead>\n",
       "  <tbody>\n",
       "    <tr>\n",
       "      <th>0</th>\n",
       "      <td>0</td>\n",
       "      <td>binary 0/1</td>\n",
       "      <td>Race</td>\n",
       "      <td>False</td>\n",
       "      <td>False</td>\n",
       "      <td>False</td>\n",
       "      <td>False</td>\n",
       "      <td>False</td>\n",
       "      <td>False</td>\n",
       "      <td>True</td>\n",
       "      <td>True</td>\n",
       "      <td>True</td>\n",
       "      <td>True</td>\n",
       "      <td>False</td>\n",
       "      <td>False</td>\n",
       "      <td>False</td>\n",
       "      <td>False</td>\n",
       "      <td>False</td>\n",
       "    </tr>\n",
       "    <tr>\n",
       "      <th>1</th>\n",
       "      <td>0</td>\n",
       "      <td>binary 0/1</td>\n",
       "      <td>Sex</td>\n",
       "      <td>False</td>\n",
       "      <td>False</td>\n",
       "      <td>False</td>\n",
       "      <td>False</td>\n",
       "      <td>False</td>\n",
       "      <td>False</td>\n",
       "      <td>True</td>\n",
       "      <td>True</td>\n",
       "      <td>True</td>\n",
       "      <td>True</td>\n",
       "      <td>False</td>\n",
       "      <td>False</td>\n",
       "      <td>False</td>\n",
       "      <td>False</td>\n",
       "      <td>False</td>\n",
       "    </tr>\n",
       "  </tbody>\n",
       "</table>\n",
       "</div>"
      ],
      "text/plain": [
       "   model_id score_threshold attribute_name  Statistical Parity  Impact Parity  \\\n",
       "0         0      binary 0/1           Race               False          False   \n",
       "1         0      binary 0/1            Sex               False          False   \n",
       "\n",
       "   FDR Parity  FPR Parity  FOR Parity  FNR Parity  TPR Parity  TNR Parity  \\\n",
       "0       False       False       False       False        True        True   \n",
       "1       False       False       False       False        True        True   \n",
       "\n",
       "   NPV Parity  Precision Parity  TypeI Parity  TypeII Parity  Equalized Odds  \\\n",
       "0        True              True         False          False           False   \n",
       "1        True              True         False          False           False   \n",
       "\n",
       "   Unsupervised Fairness  Supervised Fairness  \n",
       "0                  False                False  \n",
       "1                  False                False  "
      ]
     },
     "execution_count": 29,
     "metadata": {},
     "output_type": "execute_result"
    }
   ],
   "source": [
    "f = Fairness()\n",
    "gvf = f.get_group_value_fairness(bdf)\n",
    "gaf = f.get_group_attribute_fairness(gvf)\n",
    "gaf"
   ]
  },
  {
   "cell_type": "code",
   "execution_count": 30,
   "metadata": {},
   "outputs": [],
   "source": [
    "metrics = ['tpr']\n",
    "disparity_tolerance = 1.1"
   ]
  },
  {
   "cell_type": "code",
   "execution_count": 31,
   "metadata": {},
   "outputs": [
    {
     "data": {
      "text/html": [
       "\n",
       "<div id=\"altair-viz-45293b3adcc940fcb74eee66082a530d\"></div>\n",
       "<script type=\"text/javascript\">\n",
       "  (function(spec, embedOpt){\n",
       "    let outputDiv = document.currentScript.previousElementSibling;\n",
       "    if (outputDiv.id !== \"altair-viz-45293b3adcc940fcb74eee66082a530d\") {\n",
       "      outputDiv = document.getElementById(\"altair-viz-45293b3adcc940fcb74eee66082a530d\");\n",
       "    }\n",
       "    const paths = {\n",
       "      \"vega\": \"https://cdn.jsdelivr.net/npm//vega@5?noext\",\n",
       "      \"vega-lib\": \"https://cdn.jsdelivr.net/npm//vega-lib?noext\",\n",
       "      \"vega-lite\": \"https://cdn.jsdelivr.net/npm//vega-lite@4.8.1?noext\",\n",
       "      \"vega-embed\": \"https://cdn.jsdelivr.net/npm//vega-embed@6?noext\",\n",
       "    };\n",
       "\n",
       "    function loadScript(lib) {\n",
       "      return new Promise(function(resolve, reject) {\n",
       "        var s = document.createElement('script');\n",
       "        s.src = paths[lib];\n",
       "        s.async = true;\n",
       "        s.onload = () => resolve(paths[lib]);\n",
       "        s.onerror = () => reject(`Error loading script: ${paths[lib]}`);\n",
       "        document.getElementsByTagName(\"head\")[0].appendChild(s);\n",
       "      });\n",
       "    }\n",
       "\n",
       "    function showError(err) {\n",
       "      outputDiv.innerHTML = `<div class=\"error\" style=\"color:red;\">${err}</div>`;\n",
       "      throw err;\n",
       "    }\n",
       "\n",
       "    function displayChart(vegaEmbed) {\n",
       "      vegaEmbed(outputDiv, spec, embedOpt)\n",
       "        .catch(err => showError(`Javascript Error: ${err.message}<br>This usually means there's a typo in your chart specification. See the javascript console for the full traceback.`));\n",
       "    }\n",
       "\n",
       "    if(typeof define === \"function\" && define.amd) {\n",
       "      requirejs.config({paths});\n",
       "      require([\"vega-embed\"], displayChart, err => showError(`Error loading script: ${err.message}`));\n",
       "    } else if (typeof vegaEmbed === \"function\") {\n",
       "      displayChart(vegaEmbed);\n",
       "    } else {\n",
       "      loadScript(\"vega\")\n",
       "        .then(() => loadScript(\"vega-lite\"))\n",
       "        .then(() => loadScript(\"vega-embed\"))\n",
       "        .catch(showError)\n",
       "        .then(() => displayChart(vegaEmbed));\n",
       "    }\n",
       "  })({\"config\": {\"view\": {\"continuousWidth\": 400, \"continuousHeight\": 300, \"strokeWidth\": 0}, \"axisLeft\": {\"labelColor\": \"rgb(117,117,117)\", \"labelFont\": \"Arial\", \"labelFontSize\": 16}, \"title\": {\"align\": \"center\", \"baseline\": \"middle\", \"color\": \"rgb(117,117,117)\", \"font\": \"Arial\", \"fontSize\": 20, \"fontWeight\": \"bold\"}}, \"layer\": [{\"data\": {\"name\": \"data-1f2af75cfead9a3854ee453922b4eaab\"}, \"mark\": {\"type\": \"rule\", \"stroke\": \"rgb(117,117,117)\", \"strokeWidth\": 1.25, \"tooltip\": \"\"}, \"encoding\": {\"x\": {\"type\": \"quantitative\", \"field\": \"x\", \"scale\": {\"domain\": [-2, 2], \"range\": [40.0, 760.0]}}, \"x2\": {\"field\": \"x2\"}, \"y\": {\"type\": \"nominal\", \"axis\": {\"domain\": false, \"labelAngle\": 0, \"labelPadding\": -30, \"orient\": \"left\", \"ticks\": false, \"title\": \"\"}, \"field\": \"metric\", \"scale\": {\"domain\": [\"TPR\"], \"range\": [30, 225.0]}}}}, {\"data\": {\"name\": \"data-79dd248bdaa0ea02c535240e8ad022c8\"}, \"mark\": {\"type\": \"rule\", \"stroke\": \"rgb(117,117,117)\", \"strokeDash\": [5, 5], \"strokeWidth\": 1}, \"encoding\": {\"tooltip\": {\"value\": \"Female [REF]\"}, \"x\": {\"value\": 400.0}, \"y\": {\"value\": 20.833333333333336}, \"y2\": {\"value\": 229.16666666666666}}}, {\"data\": {\"name\": \"data-c233327f4cd9b4c2df31bf8015c83e4a\"}, \"mark\": {\"type\": \"text\", \"align\": \"center\", \"color\": \"rgb(117,117,117)\", \"font\": \"Arial\", \"fontSize\": 12, \"fontWeight\": \"normal\", \"tooltip\": \"\"}, \"encoding\": {\"text\": {\"type\": \"nominal\", \"field\": \"label\"}, \"x\": {\"type\": \"quantitative\", \"field\": \"value\", \"scale\": {\"domain\": [-2, 2], \"range\": [40.0, 760.0]}}, \"y\": {\"value\": 17.5}}}, {\"layer\": [{\"mark\": {\"type\": \"text\", \"align\": \"left\", \"fill\": \"rgb(117,117,117)\", \"font\": \"Arial\", \"fontSize\": 12, \"fontWeight\": \"normal\", \"tooltip\": \"\"}, \"encoding\": {\"text\": {\"value\": \"Times Smaller\"}, \"x\": {\"value\": 40.0}, \"y\": {\"value\": 7.5}}}, {\"mark\": {\"type\": \"text\", \"align\": \"right\", \"fill\": \"rgb(117,117,117)\", \"font\": \"Arial\", \"fontSize\": 12, \"fontWeight\": \"normal\", \"tooltip\": \"\"}, \"encoding\": {\"text\": {\"value\": \"Times Larger\"}, \"x\": {\"value\": 760.0}, \"y\": {\"value\": 7.5}}}, {\"mark\": {\"type\": \"text\", \"align\": \"center\", \"fill\": \"rgb(117,117,117)\", \"font\": \"Arial\", \"fontSize\": 12, \"fontWeight\": \"normal\", \"tooltip\": \"\"}, \"encoding\": {\"text\": {\"value\": \"Equal\"}, \"x\": {\"value\": 400.0}, \"y\": {\"value\": 7.5}}}], \"data\": {\"name\": \"data-79dd248bdaa0ea02c535240e8ad022c8\"}}, {\"layer\": [{\"mark\": {\"type\": \"rule\", \"opacity\": 0.8, \"stroke\": \"rgb(217, 46, 28)\", \"strokeWidth\": 1.25, \"tooltip\": \"\"}, \"encoding\": {\"x\": {\"type\": \"quantitative\", \"field\": \"min\", \"scale\": {\"domain\": [-2, 2], \"range\": [40.0, 760.0]}}, \"y\": {\"value\": 25.0}, \"y2\": {\"value\": 225.0}}}, {\"mark\": {\"type\": \"rule\", \"opacity\": 0.8, \"stroke\": \"rgb(217, 46, 28)\", \"strokeWidth\": 1.25, \"tooltip\": \"\"}, \"encoding\": {\"x\": {\"type\": \"quantitative\", \"field\": \"max\", \"scale\": {\"domain\": [-2, 2], \"range\": [40.0, 760.0]}}, \"y\": {\"value\": 25.0}, \"y2\": {\"value\": 225.0}}}, {\"layer\": [{\"mark\": {\"type\": \"rect\", \"fill\": \"rgb(217, 46, 28)\", \"opacity\": 0.1, \"tooltip\": \"\"}, \"encoding\": {\"x\": {\"type\": \"quantitative\", \"field\": \"min\", \"scale\": {\"domain\": [-2, 2], \"range\": [40.0, 760.0]}}, \"x2\": {\"field\": \"lower_end\"}, \"y\": {\"value\": 25.0}, \"y2\": {\"value\": 225.0}}}, {\"mark\": {\"type\": \"rect\", \"fill\": \"rgb(217, 46, 28)\", \"opacity\": 0.1, \"tooltip\": \"\"}, \"encoding\": {\"x\": {\"type\": \"quantitative\", \"field\": \"max\", \"scale\": {\"domain\": [-2, 2], \"range\": [40.0, 760.0]}}, \"x2\": {\"field\": \"upper_end\"}, \"y\": {\"value\": 25.0}, \"y2\": {\"value\": 225.0}}}]}, {\"data\": {\"name\": \"data-79dd248bdaa0ea02c535240e8ad022c8\"}, \"mark\": {\"type\": \"text\", \"align\": \"left\", \"baseline\": \"top\", \"fill\": \"rgb(217, 46, 28)\", \"font\": \"Arial\", \"fontSize\": 12, \"fontWeight\": \"normal\", \"tooltip\": \"\"}, \"encoding\": {\"text\": {\"value\": \"The metric value for any group should not be 1.1 (or more) times smaller or larger than that of the reference group Female.\"}, \"x\": {\"value\": 0}, \"y\": {\"value\": 233.33333333333334}}}], \"data\": {\"name\": \"data-c5998ade5caa41beab95346bdb5ba577\"}}, {\"layer\": [{\"mark\": \"circle\"}, {\"data\": {\"name\": \"data-c0d180b26e832c4c66795fdc592c664a\"}, \"mark\": {\"type\": \"circle\", \"opacity\": 0.2}, \"encoding\": {\"color\": {\"condition\": {\"type\": \"nominal\", \"field\": \"attribute_value\", \"legend\": null, \"scale\": {\"domain\": [\"Female\", \"Male\"], \"range\": [\"rgb(117,117,117)\", \"rgb(100, 143, 255)\", \"rgb(254, 97, 0)\", \"rgb(220, 38, 127)\", \"rgb(255, 176, 0)\", \"rgb(120, 94, 240)\"]}, \"selection\": \"selector001\"}, \"value\": \"rgb(224,224,224)\"}, \"size\": {\"type\": \"quantitative\", \"field\": \"group_size\", \"legend\": null, \"scale\": {\"domain\": [0, 1275.6], \"range\": [0, 7853.981633974483]}}, \"tooltip\": [{\"type\": \"nominal\", \"field\": \"attribute_value\", \"title\": \"Group\"}, {\"type\": \"nominal\", \"field\": \"tooltip_group_size\", \"title\": \"Group Size\"}, {\"type\": \"nominal\", \"field\": \"tooltip_disparity_explanation_tpr\", \"title\": \"Disparity\"}, {\"type\": \"quantitative\", \"field\": \"tpr\", \"format\": \".2f\", \"title\": \"TPR\"}], \"x\": {\"type\": \"quantitative\", \"axis\": {\"domain\": false, \"labels\": false, \"ticks\": false, \"title\": null, \"values\": [1, 2, -2, -1]}, \"field\": \"tpr_disparity_scaled\", \"scale\": {\"domain\": [-2, 2], \"range\": [40.0, 760.0]}}, \"y\": {\"type\": \"nominal\", \"axis\": {\"domain\": false, \"grid\": false, \"labels\": false, \"ticks\": false, \"title\": \" \"}, \"field\": \"metric_variable\", \"scale\": {\"domain\": [\"TPR\"], \"range\": [30, 225.0]}}}, \"selection\": {\"selector003\": {\"type\": \"multi\", \"empty\": \"all\", \"fields\": [\"attribute_value\"]}}, \"transform\": [{\"calculate\": \"'TPR'\", \"as\": \"metric_variable\"}]}, {\"layer\": [{\"mark\": \"point\"}, {\"data\": {\"name\": \"data-c0d180b26e832c4c66795fdc592c664a\"}, \"mark\": {\"type\": \"point\", \"filled\": true, \"size\": 60}, \"encoding\": {\"color\": {\"condition\": {\"type\": \"nominal\", \"field\": \"attribute_value\", \"legend\": null, \"scale\": {\"domain\": [\"Female\", \"Male\"], \"range\": [\"rgb(117,117,117)\", \"rgb(100, 143, 255)\", \"rgb(254, 97, 0)\", \"rgb(220, 38, 127)\", \"rgb(255, 176, 0)\", \"rgb(120, 94, 240)\"]}, \"selection\": \"selector001\"}, \"value\": \"rgb(224,224,224)\"}, \"shape\": {\"type\": \"nominal\", \"field\": \"attribute_value\", \"legend\": null, \"scale\": {\"domain\": [\"Female\", \"Male\"], \"range\": [\"cross\", \"circle\"]}}, \"tooltip\": [{\"type\": \"nominal\", \"field\": \"attribute_value\", \"title\": \"Group\"}, {\"type\": \"nominal\", \"field\": \"tooltip_group_size\", \"title\": \"Group Size\"}, {\"type\": \"nominal\", \"field\": \"tooltip_disparity_explanation_tpr\", \"title\": \"Disparity\"}, {\"type\": \"quantitative\", \"field\": \"tpr\", \"format\": \".2f\", \"title\": \"TPR\"}], \"x\": {\"type\": \"quantitative\", \"axis\": {\"domain\": false, \"labels\": false, \"ticks\": false, \"title\": null, \"values\": [1, 2, -2, -1]}, \"field\": \"tpr_disparity_scaled\", \"scale\": {\"domain\": [-2, 2], \"range\": [40.0, 760.0]}}, \"y\": {\"type\": \"nominal\", \"axis\": {\"domain\": false, \"grid\": false, \"labels\": false, \"ticks\": false, \"title\": \" \"}, \"field\": \"metric_variable\", \"scale\": {\"domain\": [\"TPR\"], \"range\": [30, 225.0]}}}, \"selection\": {\"selector002\": {\"type\": \"multi\", \"empty\": \"all\", \"fields\": [\"attribute_value\"]}}, \"transform\": [{\"calculate\": \"'TPR'\", \"as\": \"metric_variable\"}]}]}]}, {\"layer\": [{\"mark\": {\"type\": \"point\", \"filled\": true, \"opacity\": 1, \"size\": 39.47841760435743}, \"encoding\": {\"color\": {\"condition\": {\"type\": \"nominal\", \"field\": \"attribute_value\", \"legend\": null, \"scale\": {\"domain\": [\"Female\", \"Male\"], \"range\": [\"rgb(117,117,117)\", \"rgb(100, 143, 255)\", \"rgb(254, 97, 0)\", \"rgb(220, 38, 127)\", \"rgb(255, 176, 0)\", \"rgb(120, 94, 240)\"]}, \"selection\": \"selector001\"}, \"value\": \"rgb(224,224,224)\"}, \"shape\": {\"type\": \"nominal\", \"field\": \"attribute_value\", \"legend\": null, \"scale\": {\"domain\": [\"Female\", \"Male\"], \"range\": [\"cross\", \"circle\"]}}, \"x\": {\"value\": 804}, \"y\": {\"type\": \"nominal\", \"axis\": {\"domain\": false, \"grid\": false, \"labels\": false, \"ticks\": false, \"title\": \" \"}, \"field\": \"attribute_value\", \"scale\": {\"domain\": [\"Female\", \"Male\"], \"range\": [71, 125]}}}, \"selection\": {\"selector001\": {\"type\": \"multi\", \"empty\": \"all\", \"fields\": [\"attribute_value\"]}}}, {\"mark\": {\"type\": \"text\", \"align\": \"left\", \"baseline\": \"middle\", \"font\": \"Arial\", \"fontSize\": 12, \"fontWeight\": \"normal\"}, \"encoding\": {\"color\": {\"condition\": {\"type\": \"nominal\", \"field\": \"attribute_value\", \"legend\": null, \"scale\": {\"domain\": [\"Female\", \"Male\"], \"range\": [\"rgb(117,117,117)\", \"rgb(100, 143, 255)\", \"rgb(254, 97, 0)\", \"rgb(220, 38, 127)\", \"rgb(255, 176, 0)\", \"rgb(120, 94, 240)\"]}, \"selection\": \"selector001\"}, \"value\": \"rgb(224,224,224)\"}, \"text\": {\"type\": \"nominal\", \"field\": \"label\"}, \"x\": {\"value\": 812}, \"y\": {\"type\": \"nominal\", \"axis\": {\"domain\": false, \"grid\": false, \"labels\": false, \"ticks\": false, \"title\": \" \"}, \"field\": \"attribute_value\", \"scale\": {\"domain\": [\"Female\", \"Male\"], \"range\": [71, 125]}}}, \"selection\": {\"selector004\": {\"type\": \"multi\", \"empty\": \"all\", \"fields\": [\"attribute_value\"]}}}, {\"data\": {\"name\": \"data-79dd248bdaa0ea02c535240e8ad022c8\"}, \"mark\": {\"type\": \"text\", \"align\": \"left\", \"baseline\": \"middle\", \"color\": \"rgb(117,117,117)\", \"font\": \"Arial\", \"fontSize\": 12, \"fontWeight\": \"normal\"}, \"encoding\": {\"text\": {\"value\": \"Click to highlight a group.\"}, \"x\": {\"value\": 800}, \"y\": {\"value\": 49}}}, {\"data\": {\"name\": \"data-79dd248bdaa0ea02c535240e8ad022c8\"}, \"mark\": {\"type\": \"text\", \"align\": \"left\", \"baseline\": \"middle\", \"color\": \"rgb(117,117,117)\", \"font\": \"Arial\", \"fontSize\": 14, \"fontWeight\": \"normal\"}, \"encoding\": {\"text\": {\"value\": \"Groups\"}, \"x\": {\"value\": 800}, \"y\": {\"value\": 30}}}], \"data\": {\"name\": \"data-174220ed2be66a6b115cb2460514c3b9\"}}], \"height\": 250, \"padding\": {\"top\": 15, \"bottom\": 10}, \"resolve\": {\"scale\": {\"size\": \"independent\", \"y\": \"independent\"}}, \"title\": \"Disparities on Sex\", \"width\": 800, \"$schema\": \"https://vega.github.io/schema/vega-lite/v4.8.1.json\", \"datasets\": {\"data-1f2af75cfead9a3854ee453922b4eaab\": [{\"metric\": \"TPR\", \"x\": -2, \"x2\": 2}], \"data-79dd248bdaa0ea02c535240e8ad022c8\": [{\"a\": 1, \"b\": 0}, {\"a\": 1, \"b\": 0}], \"data-c233327f4cd9b4c2df31bf8015c83e4a\": [{\"value\": 1, \"label\": 2}, {\"value\": 2, \"label\": 3}, {\"value\": -2, \"label\": 3}, {\"value\": -1, \"label\": 2}, {\"value\": 0, \"label\": \"=\"}], \"data-c5998ade5caa41beab95346bdb5ba577\": [{\"min\": -0.10000000000000009, \"max\": 0.10000000000000009, \"lower_end\": -2, \"upper_end\": 2}], \"data-c0d180b26e832c4c66795fdc592c664a\": [{\"attribute_name\": \"Sex\", \"attribute_value\": \"Female\", \"group_size\": 999, \"total_entities\": 2062, \"tpr\": 0.9245614035087719, \"tpr_disparity\": 1.0, \"tpr_disparity_scaled\": 0.0, \"tooltip_group_size\": \"999 (48.45%)\", \"tooltip_disparity_explanation_tpr\": \"Reference group\"}, {\"attribute_name\": \"Sex\", \"attribute_value\": \"Male\", \"group_size\": 1063, \"total_entities\": 2062, \"tpr\": 0.8918918918918919, \"tpr_disparity\": 0.9646648546079286, \"tpr_disparity_scaled\": -0.03662945241892612, \"tooltip_group_size\": \"1,063 (51.55%)\", \"tooltip_disparity_explanation_tpr\": \"1.04 times smaller TPR than the reference group\"}], \"data-174220ed2be66a6b115cb2460514c3b9\": [{\"attribute_value\": \"Female\", \"label\": \"Female [REF]\"}, {\"attribute_value\": \"Male\", \"label\": \"Male\"}]}}, {\"mode\": \"vega-lite\"});\n",
       "</script>"
      ],
      "text/plain": [
       "alt.LayerChart(...)"
      ]
     },
     "execution_count": 31,
     "metadata": {},
     "output_type": "execute_result"
    }
   ],
   "source": [
    "ap.disparity(bdf, metrics, 'Sex', fairness_threshold = disparity_tolerance)"
   ]
  },
  {
   "cell_type": "code",
   "execution_count": 32,
   "metadata": {},
   "outputs": [
    {
     "data": {
      "text/html": [
       "\n",
       "<div id=\"altair-viz-54a6196f6aed48d090d30377a1fa4341\"></div>\n",
       "<script type=\"text/javascript\">\n",
       "  (function(spec, embedOpt){\n",
       "    let outputDiv = document.currentScript.previousElementSibling;\n",
       "    if (outputDiv.id !== \"altair-viz-54a6196f6aed48d090d30377a1fa4341\") {\n",
       "      outputDiv = document.getElementById(\"altair-viz-54a6196f6aed48d090d30377a1fa4341\");\n",
       "    }\n",
       "    const paths = {\n",
       "      \"vega\": \"https://cdn.jsdelivr.net/npm//vega@5?noext\",\n",
       "      \"vega-lib\": \"https://cdn.jsdelivr.net/npm//vega-lib?noext\",\n",
       "      \"vega-lite\": \"https://cdn.jsdelivr.net/npm//vega-lite@4.8.1?noext\",\n",
       "      \"vega-embed\": \"https://cdn.jsdelivr.net/npm//vega-embed@6?noext\",\n",
       "    };\n",
       "\n",
       "    function loadScript(lib) {\n",
       "      return new Promise(function(resolve, reject) {\n",
       "        var s = document.createElement('script');\n",
       "        s.src = paths[lib];\n",
       "        s.async = true;\n",
       "        s.onload = () => resolve(paths[lib]);\n",
       "        s.onerror = () => reject(`Error loading script: ${paths[lib]}`);\n",
       "        document.getElementsByTagName(\"head\")[0].appendChild(s);\n",
       "      });\n",
       "    }\n",
       "\n",
       "    function showError(err) {\n",
       "      outputDiv.innerHTML = `<div class=\"error\" style=\"color:red;\">${err}</div>`;\n",
       "      throw err;\n",
       "    }\n",
       "\n",
       "    function displayChart(vegaEmbed) {\n",
       "      vegaEmbed(outputDiv, spec, embedOpt)\n",
       "        .catch(err => showError(`Javascript Error: ${err.message}<br>This usually means there's a typo in your chart specification. See the javascript console for the full traceback.`));\n",
       "    }\n",
       "\n",
       "    if(typeof define === \"function\" && define.amd) {\n",
       "      requirejs.config({paths});\n",
       "      require([\"vega-embed\"], displayChart, err => showError(`Error loading script: ${err.message}`));\n",
       "    } else if (typeof vegaEmbed === \"function\") {\n",
       "      displayChart(vegaEmbed);\n",
       "    } else {\n",
       "      loadScript(\"vega\")\n",
       "        .then(() => loadScript(\"vega-lite\"))\n",
       "        .then(() => loadScript(\"vega-embed\"))\n",
       "        .catch(showError)\n",
       "        .then(() => displayChart(vegaEmbed));\n",
       "    }\n",
       "  })({\"config\": {\"view\": {\"continuousWidth\": 400, \"continuousHeight\": 300, \"strokeWidth\": 0}, \"axisLeft\": {\"labelColor\": \"rgb(117,117,117)\", \"labelFont\": \"Arial\", \"labelFontSize\": 16}, \"title\": {\"align\": \"center\", \"baseline\": \"middle\", \"color\": \"rgb(117,117,117)\", \"font\": \"Arial\", \"fontSize\": 20, \"fontWeight\": \"bold\"}}, \"layer\": [{\"data\": {\"name\": \"data-2877b248c93196b56da8c0b23bb53c1d\"}, \"mark\": {\"type\": \"rule\", \"stroke\": \"rgb(117,117,117)\", \"strokeWidth\": 1.25, \"tooltip\": \"\"}, \"encoding\": {\"x\": {\"type\": \"quantitative\", \"field\": \"start\", \"scale\": {\"domain\": [0, 1], \"range\": [40.0, 760.0]}}, \"x2\": {\"field\": \"end\"}, \"y\": {\"type\": \"nominal\", \"axis\": {\"domain\": false, \"labelAngle\": 0, \"labelPadding\": -30, \"orient\": \"left\", \"ticks\": false, \"title\": \"\"}, \"field\": \"y_position\", \"scale\": {\"domain\": [\"TPR\"], \"range\": [17.5, 157.5]}}}}, {\"data\": {\"name\": \"data-6cfe259518f6c7b358d8f836a73e6b7f\"}, \"mark\": {\"type\": \"rule\", \"stroke\": \"rgb(117,117,117)\", \"strokeWidth\": 1.25, \"tooltip\": \"\"}, \"encoding\": {\"x\": {\"type\": \"quantitative\", \"field\": \"x_position\", \"scale\": {\"domain\": [0, 1], \"range\": [40.0, 760.0]}}, \"y\": {\"value\": 17.5}, \"y2\": {\"value\": 157.5}}}, {\"data\": {\"name\": \"data-60ed1133fa688d151d36705a369482e0\"}, \"mark\": {\"type\": \"text\", \"align\": \"center\", \"color\": \"rgb(117,117,117)\", \"font\": \"Arial\", \"fontSize\": 12, \"fontWeight\": \"normal\", \"tooltip\": \"\"}, \"encoding\": {\"text\": {\"type\": \"nominal\", \"field\": \"value\"}, \"x\": {\"type\": \"quantitative\", \"field\": \"value\", \"scale\": {\"domain\": [0, 1], \"range\": [40.0, 760.0]}}, \"y\": {\"value\": 12.25}}}, {\"layer\": [{\"mark\": {\"type\": \"rect\", \"opacity\": 0.8, \"stroke\": \"rgb(217, 46, 28)\", \"strokeWidth\": 1.25, \"tooltip\": \"\"}, \"encoding\": {\"x\": {\"type\": \"quantitative\", \"field\": \"lower_threshold_value\", \"scale\": {\"domain\": [0, 1], \"range\": [40.0, 760.0]}}, \"x2\": {\"field\": \"lower_threshold_value\"}, \"y\": {\"type\": \"nominal\", \"axis\": {\"domain\": false, \"grid\": false, \"labels\": false, \"ticks\": false, \"title\": \" \"}, \"field\": \"metric\", \"scale\": {\"domain\": [\"TPR\"], \"range\": [17.5, 157.5]}}}}, {\"mark\": {\"type\": \"rect\", \"opacity\": 0.8, \"stroke\": \"rgb(217, 46, 28)\", \"strokeWidth\": 1.25, \"tooltip\": \"\"}, \"encoding\": {\"x\": {\"type\": \"quantitative\", \"field\": \"upper_threshold_value\", \"scale\": {\"domain\": [0, 1], \"range\": [40.0, 760.0]}}, \"x2\": {\"field\": \"upper_threshold_value\"}, \"y\": {\"type\": \"nominal\", \"axis\": {\"domain\": false, \"grid\": false, \"labels\": false, \"ticks\": false, \"title\": \" \"}, \"field\": \"metric\", \"scale\": {\"domain\": [\"TPR\"], \"range\": [17.5, 157.5]}}}}, {\"layer\": [{\"mark\": {\"type\": \"rect\", \"fill\": \"rgb(217, 46, 28)\", \"opacity\": 0.1, \"tooltip\": \"\"}, \"encoding\": {\"x\": {\"type\": \"quantitative\", \"field\": \"lower_threshold_value\", \"scale\": {\"domain\": [0, 1], \"range\": [40.0, 760.0]}}, \"x2\": {\"field\": \"lower_end\"}, \"y\": {\"type\": \"nominal\", \"axis\": {\"domain\": false, \"grid\": false, \"labels\": false, \"ticks\": false, \"title\": \" \"}, \"field\": \"metric\", \"scale\": {\"domain\": [\"TPR\"], \"range\": [17.5, 157.5]}}}}, {\"mark\": {\"type\": \"rect\", \"fill\": \"rgb(217, 46, 28)\", \"opacity\": 0.1, \"tooltip\": \"\"}, \"encoding\": {\"x\": {\"type\": \"quantitative\", \"field\": \"upper_threshold_value\", \"scale\": {\"domain\": [0, 1], \"range\": [40.0, 760.0]}}, \"x2\": {\"field\": \"upper_end\"}, \"y\": {\"type\": \"nominal\", \"axis\": {\"domain\": false, \"grid\": false, \"labels\": false, \"ticks\": false, \"title\": \" \"}, \"field\": \"metric\", \"scale\": {\"domain\": [\"TPR\"], \"range\": [17.5, 157.5]}}}}]}, {\"data\": {\"name\": \"data-79dd248bdaa0ea02c535240e8ad022c8\"}, \"mark\": {\"type\": \"text\", \"align\": \"left\", \"baseline\": \"top\", \"fill\": \"rgb(217, 46, 28)\", \"font\": \"Arial\", \"fontSize\": 12, \"fontWeight\": \"normal\", \"tooltip\": \"\"}, \"encoding\": {\"text\": {\"value\": \"The metric value for any group should not be 1.1 (or more) times smaller or larger than that of the reference group Female.\"}, \"x\": {\"value\": 0}, \"y\": {\"value\": 163.33333333333334}}}], \"data\": {\"name\": \"data-221b7ebd86801503faa4245975299ea2\"}}, {\"layer\": [{\"mark\": \"circle\"}, {\"data\": {\"name\": \"data-c0d180b26e832c4c66795fdc592c664a\"}, \"mark\": {\"type\": \"circle\", \"opacity\": 0.2}, \"encoding\": {\"color\": {\"condition\": {\"type\": \"nominal\", \"field\": \"attribute_value\", \"legend\": null, \"scale\": {\"domain\": [\"Female\", \"Male\"], \"range\": [\"rgb(117,117,117)\", \"rgb(100, 143, 255)\", \"rgb(254, 97, 0)\", \"rgb(220, 38, 127)\", \"rgb(255, 176, 0)\", \"rgb(120, 94, 240)\"]}, \"selection\": \"selector005\"}, \"value\": \"rgb(224,224,224)\"}, \"size\": {\"type\": \"quantitative\", \"field\": \"group_size\", \"legend\": null, \"scale\": {\"domain\": [0, 1275.6], \"range\": [0, 3848.4510006474966]}}, \"tooltip\": [{\"type\": \"nominal\", \"field\": \"attribute_value\", \"title\": \"Group\"}, {\"type\": \"nominal\", \"field\": \"tooltip_group_size\", \"title\": \"Group Size\"}, {\"type\": \"nominal\", \"field\": \"tooltip_disparity_explanation_tpr\", \"title\": \"Disparity\"}, {\"type\": \"quantitative\", \"field\": \"tpr\", \"format\": \".2f\", \"title\": \"TPR\"}], \"x\": {\"type\": \"quantitative\", \"axis\": {\"domain\": false, \"labels\": false, \"ticks\": false, \"title\": null, \"values\": [0.25, 0.5, 0.75]}, \"field\": \"tpr\", \"scale\": {\"domain\": [0, 1], \"range\": [40.0, 760.0]}}, \"y\": {\"type\": \"nominal\", \"axis\": {\"domain\": false, \"grid\": false, \"labels\": false, \"ticks\": false, \"title\": \" \"}, \"field\": \"metric_variable\", \"scale\": {\"domain\": [\"TPR\"], \"range\": [17.5, 157.5]}}}, \"selection\": {\"selector007\": {\"type\": \"multi\", \"empty\": \"all\", \"fields\": [\"attribute_value\"]}}, \"transform\": [{\"calculate\": \"'TPR'\", \"as\": \"metric_variable\"}]}, {\"layer\": [{\"mark\": \"point\"}, {\"data\": {\"name\": \"data-c0d180b26e832c4c66795fdc592c664a\"}, \"mark\": {\"type\": \"point\", \"filled\": true, \"size\": 60}, \"encoding\": {\"color\": {\"condition\": {\"type\": \"nominal\", \"field\": \"attribute_value\", \"legend\": null, \"scale\": {\"domain\": [\"Female\", \"Male\"], \"range\": [\"rgb(117,117,117)\", \"rgb(100, 143, 255)\", \"rgb(254, 97, 0)\", \"rgb(220, 38, 127)\", \"rgb(255, 176, 0)\", \"rgb(120, 94, 240)\"]}, \"selection\": \"selector005\"}, \"value\": \"rgb(224,224,224)\"}, \"shape\": {\"type\": \"nominal\", \"field\": \"attribute_value\", \"legend\": null, \"scale\": {\"domain\": [\"Female\", \"Male\"], \"range\": [\"cross\", \"circle\"]}}, \"tooltip\": [{\"type\": \"nominal\", \"field\": \"attribute_value\", \"title\": \"Group\"}, {\"type\": \"nominal\", \"field\": \"tooltip_group_size\", \"title\": \"Group Size\"}, {\"type\": \"nominal\", \"field\": \"tooltip_disparity_explanation_tpr\", \"title\": \"Disparity\"}, {\"type\": \"quantitative\", \"field\": \"tpr\", \"format\": \".2f\", \"title\": \"TPR\"}], \"x\": {\"type\": \"quantitative\", \"axis\": {\"domain\": false, \"labels\": false, \"ticks\": false, \"title\": null, \"values\": [0.25, 0.5, 0.75]}, \"field\": \"tpr\", \"scale\": {\"domain\": [0, 1], \"range\": [40.0, 760.0]}}, \"y\": {\"type\": \"nominal\", \"axis\": {\"domain\": false, \"grid\": false, \"labels\": false, \"ticks\": false, \"title\": \" \"}, \"field\": \"metric_variable\", \"scale\": {\"domain\": [\"TPR\"], \"range\": [17.5, 157.5]}}}, \"selection\": {\"selector006\": {\"type\": \"multi\", \"empty\": \"all\", \"fields\": [\"attribute_value\"]}}, \"transform\": [{\"calculate\": \"'TPR'\", \"as\": \"metric_variable\"}]}]}]}, {\"layer\": [{\"mark\": {\"type\": \"point\", \"filled\": true, \"opacity\": 1, \"size\": 39.47841760435743}, \"encoding\": {\"color\": {\"condition\": {\"type\": \"nominal\", \"field\": \"attribute_value\", \"legend\": null, \"scale\": {\"domain\": [\"Female\", \"Male\"], \"range\": [\"rgb(117,117,117)\", \"rgb(100, 143, 255)\", \"rgb(254, 97, 0)\", \"rgb(220, 38, 127)\", \"rgb(255, 176, 0)\", \"rgb(120, 94, 240)\"]}, \"selection\": \"selector005\"}, \"value\": \"rgb(224,224,224)\"}, \"shape\": {\"type\": \"nominal\", \"field\": \"attribute_value\", \"legend\": null, \"scale\": {\"domain\": [\"Female\", \"Male\"], \"range\": [\"cross\", \"circle\"]}}, \"x\": {\"value\": 804}, \"y\": {\"type\": \"nominal\", \"axis\": {\"domain\": false, \"grid\": false, \"labels\": false, \"ticks\": false, \"title\": \" \"}, \"field\": \"attribute_value\", \"scale\": {\"domain\": [\"Female\", \"Male\"], \"range\": [71, 125]}}}, \"selection\": {\"selector005\": {\"type\": \"multi\", \"empty\": \"all\", \"fields\": [\"attribute_value\"]}}}, {\"mark\": {\"type\": \"text\", \"align\": \"left\", \"baseline\": \"middle\", \"font\": \"Arial\", \"fontSize\": 12, \"fontWeight\": \"normal\"}, \"encoding\": {\"color\": {\"condition\": {\"type\": \"nominal\", \"field\": \"attribute_value\", \"legend\": null, \"scale\": {\"domain\": [\"Female\", \"Male\"], \"range\": [\"rgb(117,117,117)\", \"rgb(100, 143, 255)\", \"rgb(254, 97, 0)\", \"rgb(220, 38, 127)\", \"rgb(255, 176, 0)\", \"rgb(120, 94, 240)\"]}, \"selection\": \"selector005\"}, \"value\": \"rgb(224,224,224)\"}, \"text\": {\"type\": \"nominal\", \"field\": \"label\"}, \"x\": {\"value\": 812}, \"y\": {\"type\": \"nominal\", \"axis\": {\"domain\": false, \"grid\": false, \"labels\": false, \"ticks\": false, \"title\": \" \"}, \"field\": \"attribute_value\", \"scale\": {\"domain\": [\"Female\", \"Male\"], \"range\": [71, 125]}}}, \"selection\": {\"selector008\": {\"type\": \"multi\", \"empty\": \"all\", \"fields\": [\"attribute_value\"]}}}, {\"data\": {\"name\": \"data-79dd248bdaa0ea02c535240e8ad022c8\"}, \"mark\": {\"type\": \"text\", \"align\": \"left\", \"baseline\": \"middle\", \"color\": \"rgb(117,117,117)\", \"font\": \"Arial\", \"fontSize\": 12, \"fontWeight\": \"normal\"}, \"encoding\": {\"text\": {\"value\": \"Click to highlight a group.\"}, \"x\": {\"value\": 800}, \"y\": {\"value\": 49}}}, {\"data\": {\"name\": \"data-79dd248bdaa0ea02c535240e8ad022c8\"}, \"mark\": {\"type\": \"text\", \"align\": \"left\", \"baseline\": \"middle\", \"color\": \"rgb(117,117,117)\", \"font\": \"Arial\", \"fontSize\": 14, \"fontWeight\": \"normal\"}, \"encoding\": {\"text\": {\"value\": \"Groups\"}, \"x\": {\"value\": 800}, \"y\": {\"value\": 30}}}], \"data\": {\"name\": \"data-174220ed2be66a6b115cb2460514c3b9\"}}], \"height\": 175, \"padding\": {\"top\": 15, \"bottom\": 10}, \"resolve\": {\"scale\": {\"size\": \"independent\", \"y\": \"independent\"}}, \"title\": \"Absolute values by Sex\", \"width\": 800, \"$schema\": \"https://vega.github.io/schema/vega-lite/v4.8.1.json\", \"datasets\": {\"data-2877b248c93196b56da8c0b23bb53c1d\": [{\"y_position\": \"TPR\", \"start\": 0, \"end\": 1}], \"data-6cfe259518f6c7b358d8f836a73e6b7f\": [{\"x_position\": 0}, {\"x_position\": 1}], \"data-60ed1133fa688d151d36705a369482e0\": [{\"value\": 0.0}, {\"value\": 0.25}, {\"value\": 0.5}, {\"value\": 0.75}, {\"value\": 1.0}], \"data-221b7ebd86801503faa4245975299ea2\": [{\"lower_end\": 0, \"upper_end\": 1, \"lower_threshold_value\": 0.8405103668261562, \"upper_threshold_value\": 1, \"metric\": \"TPR\"}], \"data-79dd248bdaa0ea02c535240e8ad022c8\": [{\"a\": 1, \"b\": 0}, {\"a\": 1, \"b\": 0}], \"data-c0d180b26e832c4c66795fdc592c664a\": [{\"attribute_name\": \"Sex\", \"attribute_value\": \"Female\", \"group_size\": 999, \"total_entities\": 2062, \"tpr\": 0.9245614035087719, \"tpr_disparity\": 1.0, \"tpr_disparity_scaled\": 0.0, \"tooltip_group_size\": \"999 (48.45%)\", \"tooltip_disparity_explanation_tpr\": \"Reference group\"}, {\"attribute_name\": \"Sex\", \"attribute_value\": \"Male\", \"group_size\": 1063, \"total_entities\": 2062, \"tpr\": 0.8918918918918919, \"tpr_disparity\": 0.9646648546079286, \"tpr_disparity_scaled\": -0.03662945241892612, \"tooltip_group_size\": \"1,063 (51.55%)\", \"tooltip_disparity_explanation_tpr\": \"1.04 times smaller TPR than the reference group\"}], \"data-174220ed2be66a6b115cb2460514c3b9\": [{\"attribute_value\": \"Female\", \"label\": \"Female [REF]\"}, {\"attribute_value\": \"Male\", \"label\": \"Male\"}]}}, {\"mode\": \"vega-lite\"});\n",
       "</script>"
      ],
      "text/plain": [
       "alt.LayerChart(...)"
      ]
     },
     "execution_count": 32,
     "metadata": {},
     "output_type": "execute_result"
    }
   ],
   "source": [
    "ap.absolute(bdf, metrics, 'Sex', fairness_threshold = disparity_tolerance)"
   ]
  },
  {
   "cell_type": "code",
   "execution_count": 33,
   "metadata": {},
   "outputs": [
    {
     "data": {
      "text/html": [
       "\n",
       "<div id=\"altair-viz-cd572b47837f4173868f9e816b1dc3e5\"></div>\n",
       "<script type=\"text/javascript\">\n",
       "  (function(spec, embedOpt){\n",
       "    let outputDiv = document.currentScript.previousElementSibling;\n",
       "    if (outputDiv.id !== \"altair-viz-cd572b47837f4173868f9e816b1dc3e5\") {\n",
       "      outputDiv = document.getElementById(\"altair-viz-cd572b47837f4173868f9e816b1dc3e5\");\n",
       "    }\n",
       "    const paths = {\n",
       "      \"vega\": \"https://cdn.jsdelivr.net/npm//vega@5?noext\",\n",
       "      \"vega-lib\": \"https://cdn.jsdelivr.net/npm//vega-lib?noext\",\n",
       "      \"vega-lite\": \"https://cdn.jsdelivr.net/npm//vega-lite@4.8.1?noext\",\n",
       "      \"vega-embed\": \"https://cdn.jsdelivr.net/npm//vega-embed@6?noext\",\n",
       "    };\n",
       "\n",
       "    function loadScript(lib) {\n",
       "      return new Promise(function(resolve, reject) {\n",
       "        var s = document.createElement('script');\n",
       "        s.src = paths[lib];\n",
       "        s.async = true;\n",
       "        s.onload = () => resolve(paths[lib]);\n",
       "        s.onerror = () => reject(`Error loading script: ${paths[lib]}`);\n",
       "        document.getElementsByTagName(\"head\")[0].appendChild(s);\n",
       "      });\n",
       "    }\n",
       "\n",
       "    function showError(err) {\n",
       "      outputDiv.innerHTML = `<div class=\"error\" style=\"color:red;\">${err}</div>`;\n",
       "      throw err;\n",
       "    }\n",
       "\n",
       "    function displayChart(vegaEmbed) {\n",
       "      vegaEmbed(outputDiv, spec, embedOpt)\n",
       "        .catch(err => showError(`Javascript Error: ${err.message}<br>This usually means there's a typo in your chart specification. See the javascript console for the full traceback.`));\n",
       "    }\n",
       "\n",
       "    if(typeof define === \"function\" && define.amd) {\n",
       "      requirejs.config({paths});\n",
       "      require([\"vega-embed\"], displayChart, err => showError(`Error loading script: ${err.message}`));\n",
       "    } else if (typeof vegaEmbed === \"function\") {\n",
       "      displayChart(vegaEmbed);\n",
       "    } else {\n",
       "      loadScript(\"vega\")\n",
       "        .then(() => loadScript(\"vega-lite\"))\n",
       "        .then(() => loadScript(\"vega-embed\"))\n",
       "        .catch(showError)\n",
       "        .then(() => displayChart(vegaEmbed));\n",
       "    }\n",
       "  })({\"config\": {\"view\": {\"continuousWidth\": 400, \"continuousHeight\": 300, \"strokeWidth\": 0}, \"axisLeft\": {\"labelColor\": \"rgb(117,117,117)\", \"labelFont\": \"Arial\", \"labelFontSize\": 16}, \"title\": {\"align\": \"center\", \"baseline\": \"middle\", \"color\": \"rgb(117,117,117)\", \"font\": \"Arial\", \"fontSize\": 20, \"fontWeight\": \"bold\"}}, \"layer\": [{\"data\": {\"name\": \"data-1f2af75cfead9a3854ee453922b4eaab\"}, \"mark\": {\"type\": \"rule\", \"stroke\": \"rgb(117,117,117)\", \"strokeWidth\": 1.25, \"tooltip\": \"\"}, \"encoding\": {\"x\": {\"type\": \"quantitative\", \"field\": \"x\", \"scale\": {\"domain\": [-2, 2], \"range\": [40.0, 760.0]}}, \"x2\": {\"field\": \"x2\"}, \"y\": {\"type\": \"nominal\", \"axis\": {\"domain\": false, \"labelAngle\": 0, \"labelPadding\": -30, \"orient\": \"left\", \"ticks\": false, \"title\": \"\"}, \"field\": \"metric\", \"scale\": {\"domain\": [\"TPR\"], \"range\": [30, 225.0]}}}}, {\"data\": {\"name\": \"data-79dd248bdaa0ea02c535240e8ad022c8\"}, \"mark\": {\"type\": \"rule\", \"stroke\": \"rgb(117,117,117)\", \"strokeDash\": [5, 5], \"strokeWidth\": 1}, \"encoding\": {\"tooltip\": {\"value\": \"Black [REF]\"}, \"x\": {\"value\": 400.0}, \"y\": {\"value\": 20.833333333333336}, \"y2\": {\"value\": 229.16666666666666}}}, {\"data\": {\"name\": \"data-c233327f4cd9b4c2df31bf8015c83e4a\"}, \"mark\": {\"type\": \"text\", \"align\": \"center\", \"color\": \"rgb(117,117,117)\", \"font\": \"Arial\", \"fontSize\": 12, \"fontWeight\": \"normal\", \"tooltip\": \"\"}, \"encoding\": {\"text\": {\"type\": \"nominal\", \"field\": \"label\"}, \"x\": {\"type\": \"quantitative\", \"field\": \"value\", \"scale\": {\"domain\": [-2, 2], \"range\": [40.0, 760.0]}}, \"y\": {\"value\": 17.5}}}, {\"layer\": [{\"mark\": {\"type\": \"text\", \"align\": \"left\", \"fill\": \"rgb(117,117,117)\", \"font\": \"Arial\", \"fontSize\": 12, \"fontWeight\": \"normal\", \"tooltip\": \"\"}, \"encoding\": {\"text\": {\"value\": \"Times Smaller\"}, \"x\": {\"value\": 40.0}, \"y\": {\"value\": 7.5}}}, {\"mark\": {\"type\": \"text\", \"align\": \"right\", \"fill\": \"rgb(117,117,117)\", \"font\": \"Arial\", \"fontSize\": 12, \"fontWeight\": \"normal\", \"tooltip\": \"\"}, \"encoding\": {\"text\": {\"value\": \"Times Larger\"}, \"x\": {\"value\": 760.0}, \"y\": {\"value\": 7.5}}}, {\"mark\": {\"type\": \"text\", \"align\": \"center\", \"fill\": \"rgb(117,117,117)\", \"font\": \"Arial\", \"fontSize\": 12, \"fontWeight\": \"normal\", \"tooltip\": \"\"}, \"encoding\": {\"text\": {\"value\": \"Equal\"}, \"x\": {\"value\": 400.0}, \"y\": {\"value\": 7.5}}}], \"data\": {\"name\": \"data-79dd248bdaa0ea02c535240e8ad022c8\"}}, {\"layer\": [{\"mark\": {\"type\": \"rule\", \"opacity\": 0.8, \"stroke\": \"rgb(217, 46, 28)\", \"strokeWidth\": 1.25, \"tooltip\": \"\"}, \"encoding\": {\"x\": {\"type\": \"quantitative\", \"field\": \"min\", \"scale\": {\"domain\": [-2, 2], \"range\": [40.0, 760.0]}}, \"y\": {\"value\": 25.0}, \"y2\": {\"value\": 225.0}}}, {\"mark\": {\"type\": \"rule\", \"opacity\": 0.8, \"stroke\": \"rgb(217, 46, 28)\", \"strokeWidth\": 1.25, \"tooltip\": \"\"}, \"encoding\": {\"x\": {\"type\": \"quantitative\", \"field\": \"max\", \"scale\": {\"domain\": [-2, 2], \"range\": [40.0, 760.0]}}, \"y\": {\"value\": 25.0}, \"y2\": {\"value\": 225.0}}}, {\"layer\": [{\"mark\": {\"type\": \"rect\", \"fill\": \"rgb(217, 46, 28)\", \"opacity\": 0.1, \"tooltip\": \"\"}, \"encoding\": {\"x\": {\"type\": \"quantitative\", \"field\": \"min\", \"scale\": {\"domain\": [-2, 2], \"range\": [40.0, 760.0]}}, \"x2\": {\"field\": \"lower_end\"}, \"y\": {\"value\": 25.0}, \"y2\": {\"value\": 225.0}}}, {\"mark\": {\"type\": \"rect\", \"fill\": \"rgb(217, 46, 28)\", \"opacity\": 0.1, \"tooltip\": \"\"}, \"encoding\": {\"x\": {\"type\": \"quantitative\", \"field\": \"max\", \"scale\": {\"domain\": [-2, 2], \"range\": [40.0, 760.0]}}, \"x2\": {\"field\": \"upper_end\"}, \"y\": {\"value\": 25.0}, \"y2\": {\"value\": 225.0}}}]}, {\"data\": {\"name\": \"data-79dd248bdaa0ea02c535240e8ad022c8\"}, \"mark\": {\"type\": \"text\", \"align\": \"left\", \"baseline\": \"top\", \"fill\": \"rgb(217, 46, 28)\", \"font\": \"Arial\", \"fontSize\": 12, \"fontWeight\": \"normal\", \"tooltip\": \"\"}, \"encoding\": {\"text\": {\"value\": \"The metric value for any group should not be 1.1 (or more) times smaller or larger than that of the reference group Black.\"}, \"x\": {\"value\": 0}, \"y\": {\"value\": 233.33333333333334}}}], \"data\": {\"name\": \"data-c5998ade5caa41beab95346bdb5ba577\"}}, {\"layer\": [{\"mark\": \"circle\"}, {\"data\": {\"name\": \"data-2078a4c0fcf4e4b3e9839a676b428900\"}, \"mark\": {\"type\": \"circle\", \"opacity\": 0.2}, \"encoding\": {\"color\": {\"condition\": {\"type\": \"nominal\", \"field\": \"attribute_value\", \"legend\": null, \"scale\": {\"domain\": [\"Black\", \"White\"], \"range\": [\"rgb(117,117,117)\", \"rgb(100, 143, 255)\", \"rgb(254, 97, 0)\", \"rgb(220, 38, 127)\", \"rgb(255, 176, 0)\", \"rgb(120, 94, 240)\"]}, \"selection\": \"selector009\"}, \"value\": \"rgb(224,224,224)\"}, \"size\": {\"type\": \"quantitative\", \"field\": \"group_size\", \"legend\": null, \"scale\": {\"domain\": [0, 2150.4], \"range\": [0, 7853.981633974483]}}, \"tooltip\": [{\"type\": \"nominal\", \"field\": \"attribute_value\", \"title\": \"Group\"}, {\"type\": \"nominal\", \"field\": \"tooltip_group_size\", \"title\": \"Group Size\"}, {\"type\": \"nominal\", \"field\": \"tooltip_disparity_explanation_tpr\", \"title\": \"Disparity\"}, {\"type\": \"quantitative\", \"field\": \"tpr\", \"format\": \".2f\", \"title\": \"TPR\"}], \"x\": {\"type\": \"quantitative\", \"axis\": {\"domain\": false, \"labels\": false, \"ticks\": false, \"title\": null, \"values\": [1, 2, -2, -1]}, \"field\": \"tpr_disparity_scaled\", \"scale\": {\"domain\": [-2, 2], \"range\": [40.0, 760.0]}}, \"y\": {\"type\": \"nominal\", \"axis\": {\"domain\": false, \"grid\": false, \"labels\": false, \"ticks\": false, \"title\": \" \"}, \"field\": \"metric_variable\", \"scale\": {\"domain\": [\"TPR\"], \"range\": [30, 225.0]}}}, \"selection\": {\"selector011\": {\"type\": \"multi\", \"empty\": \"all\", \"fields\": [\"attribute_value\"]}}, \"transform\": [{\"calculate\": \"'TPR'\", \"as\": \"metric_variable\"}]}, {\"layer\": [{\"mark\": \"point\"}, {\"data\": {\"name\": \"data-2078a4c0fcf4e4b3e9839a676b428900\"}, \"mark\": {\"type\": \"point\", \"filled\": true, \"size\": 60}, \"encoding\": {\"color\": {\"condition\": {\"type\": \"nominal\", \"field\": \"attribute_value\", \"legend\": null, \"scale\": {\"domain\": [\"Black\", \"White\"], \"range\": [\"rgb(117,117,117)\", \"rgb(100, 143, 255)\", \"rgb(254, 97, 0)\", \"rgb(220, 38, 127)\", \"rgb(255, 176, 0)\", \"rgb(120, 94, 240)\"]}, \"selection\": \"selector009\"}, \"value\": \"rgb(224,224,224)\"}, \"shape\": {\"type\": \"nominal\", \"field\": \"attribute_value\", \"legend\": null, \"scale\": {\"domain\": [\"Black\", \"White\"], \"range\": [\"cross\", \"circle\"]}}, \"tooltip\": [{\"type\": \"nominal\", \"field\": \"attribute_value\", \"title\": \"Group\"}, {\"type\": \"nominal\", \"field\": \"tooltip_group_size\", \"title\": \"Group Size\"}, {\"type\": \"nominal\", \"field\": \"tooltip_disparity_explanation_tpr\", \"title\": \"Disparity\"}, {\"type\": \"quantitative\", \"field\": \"tpr\", \"format\": \".2f\", \"title\": \"TPR\"}], \"x\": {\"type\": \"quantitative\", \"axis\": {\"domain\": false, \"labels\": false, \"ticks\": false, \"title\": null, \"values\": [1, 2, -2, -1]}, \"field\": \"tpr_disparity_scaled\", \"scale\": {\"domain\": [-2, 2], \"range\": [40.0, 760.0]}}, \"y\": {\"type\": \"nominal\", \"axis\": {\"domain\": false, \"grid\": false, \"labels\": false, \"ticks\": false, \"title\": \" \"}, \"field\": \"metric_variable\", \"scale\": {\"domain\": [\"TPR\"], \"range\": [30, 225.0]}}}, \"selection\": {\"selector010\": {\"type\": \"multi\", \"empty\": \"all\", \"fields\": [\"attribute_value\"]}}, \"transform\": [{\"calculate\": \"'TPR'\", \"as\": \"metric_variable\"}]}]}]}, {\"layer\": [{\"mark\": {\"type\": \"point\", \"filled\": true, \"opacity\": 1, \"size\": 39.47841760435743}, \"encoding\": {\"color\": {\"condition\": {\"type\": \"nominal\", \"field\": \"attribute_value\", \"legend\": null, \"scale\": {\"domain\": [\"Black\", \"White\"], \"range\": [\"rgb(117,117,117)\", \"rgb(100, 143, 255)\", \"rgb(254, 97, 0)\", \"rgb(220, 38, 127)\", \"rgb(255, 176, 0)\", \"rgb(120, 94, 240)\"]}, \"selection\": \"selector009\"}, \"value\": \"rgb(224,224,224)\"}, \"shape\": {\"type\": \"nominal\", \"field\": \"attribute_value\", \"legend\": null, \"scale\": {\"domain\": [\"Black\", \"White\"], \"range\": [\"cross\", \"circle\"]}}, \"x\": {\"value\": 804}, \"y\": {\"type\": \"nominal\", \"axis\": {\"domain\": false, \"grid\": false, \"labels\": false, \"ticks\": false, \"title\": \" \"}, \"field\": \"attribute_value\", \"scale\": {\"domain\": [\"Black\", \"White\"], \"range\": [71, 125]}}}, \"selection\": {\"selector009\": {\"type\": \"multi\", \"empty\": \"all\", \"fields\": [\"attribute_value\"]}}}, {\"mark\": {\"type\": \"text\", \"align\": \"left\", \"baseline\": \"middle\", \"font\": \"Arial\", \"fontSize\": 12, \"fontWeight\": \"normal\"}, \"encoding\": {\"color\": {\"condition\": {\"type\": \"nominal\", \"field\": \"attribute_value\", \"legend\": null, \"scale\": {\"domain\": [\"Black\", \"White\"], \"range\": [\"rgb(117,117,117)\", \"rgb(100, 143, 255)\", \"rgb(254, 97, 0)\", \"rgb(220, 38, 127)\", \"rgb(255, 176, 0)\", \"rgb(120, 94, 240)\"]}, \"selection\": \"selector009\"}, \"value\": \"rgb(224,224,224)\"}, \"text\": {\"type\": \"nominal\", \"field\": \"label\"}, \"x\": {\"value\": 812}, \"y\": {\"type\": \"nominal\", \"axis\": {\"domain\": false, \"grid\": false, \"labels\": false, \"ticks\": false, \"title\": \" \"}, \"field\": \"attribute_value\", \"scale\": {\"domain\": [\"Black\", \"White\"], \"range\": [71, 125]}}}, \"selection\": {\"selector012\": {\"type\": \"multi\", \"empty\": \"all\", \"fields\": [\"attribute_value\"]}}}, {\"data\": {\"name\": \"data-79dd248bdaa0ea02c535240e8ad022c8\"}, \"mark\": {\"type\": \"text\", \"align\": \"left\", \"baseline\": \"middle\", \"color\": \"rgb(117,117,117)\", \"font\": \"Arial\", \"fontSize\": 12, \"fontWeight\": \"normal\"}, \"encoding\": {\"text\": {\"value\": \"Click to highlight a group.\"}, \"x\": {\"value\": 800}, \"y\": {\"value\": 49}}}, {\"data\": {\"name\": \"data-79dd248bdaa0ea02c535240e8ad022c8\"}, \"mark\": {\"type\": \"text\", \"align\": \"left\", \"baseline\": \"middle\", \"color\": \"rgb(117,117,117)\", \"font\": \"Arial\", \"fontSize\": 14, \"fontWeight\": \"normal\"}, \"encoding\": {\"text\": {\"value\": \"Groups\"}, \"x\": {\"value\": 800}, \"y\": {\"value\": 30}}}], \"data\": {\"name\": \"data-b3507041cc32a6b0d7dedcfcdb3a7f4c\"}}], \"height\": 250, \"padding\": {\"top\": 15, \"bottom\": 10}, \"resolve\": {\"scale\": {\"size\": \"independent\", \"y\": \"independent\"}}, \"title\": \"Disparities on Race\", \"width\": 800, \"$schema\": \"https://vega.github.io/schema/vega-lite/v4.8.1.json\", \"datasets\": {\"data-1f2af75cfead9a3854ee453922b4eaab\": [{\"metric\": \"TPR\", \"x\": -2, \"x2\": 2}], \"data-79dd248bdaa0ea02c535240e8ad022c8\": [{\"a\": 1, \"b\": 0}, {\"a\": 1, \"b\": 0}], \"data-c233327f4cd9b4c2df31bf8015c83e4a\": [{\"value\": 1, \"label\": 2}, {\"value\": 2, \"label\": 3}, {\"value\": -2, \"label\": 3}, {\"value\": -1, \"label\": 2}, {\"value\": 0, \"label\": \"=\"}], \"data-c5998ade5caa41beab95346bdb5ba577\": [{\"min\": -0.10000000000000009, \"max\": 0.10000000000000009, \"lower_end\": -2, \"upper_end\": 2}], \"data-2078a4c0fcf4e4b3e9839a676b428900\": [{\"attribute_name\": \"Race\", \"attribute_value\": \"Black\", \"group_size\": 270, \"total_entities\": 2062, \"tpr\": 0.8888888888888888, \"tpr_disparity\": 1.0, \"tpr_disparity_scaled\": 0.0, \"tooltip_group_size\": \"270 (13.09%)\", \"tooltip_disparity_explanation_tpr\": \"Reference group\"}, {\"attribute_name\": \"Race\", \"attribute_value\": \"White\", \"group_size\": 1792, \"total_entities\": 2062, \"tpr\": 0.9121114683815649, \"tpr_disparity\": 1.0261254019292605, \"tpr_disparity_scaled\": 0.026125401929260494, \"tooltip_group_size\": \"1,792 (86.91%)\", \"tooltip_disparity_explanation_tpr\": \"1.03 times larger TPR than the reference group\"}], \"data-b3507041cc32a6b0d7dedcfcdb3a7f4c\": [{\"attribute_value\": \"Black\", \"label\": \"Black [REF]\"}, {\"attribute_value\": \"White\", \"label\": \"White\"}]}}, {\"mode\": \"vega-lite\"});\n",
       "</script>"
      ],
      "text/plain": [
       "alt.LayerChart(...)"
      ]
     },
     "execution_count": 33,
     "metadata": {},
     "output_type": "execute_result"
    }
   ],
   "source": [
    "ap.disparity(bdf, metrics, 'Race', fairness_threshold = disparity_tolerance)"
   ]
  },
  {
   "cell_type": "code",
   "execution_count": 34,
   "metadata": {},
   "outputs": [
    {
     "data": {
      "text/html": [
       "\n",
       "<div id=\"altair-viz-d6583ef20a7c40eb9f2f727bb34339ad\"></div>\n",
       "<script type=\"text/javascript\">\n",
       "  (function(spec, embedOpt){\n",
       "    let outputDiv = document.currentScript.previousElementSibling;\n",
       "    if (outputDiv.id !== \"altair-viz-d6583ef20a7c40eb9f2f727bb34339ad\") {\n",
       "      outputDiv = document.getElementById(\"altair-viz-d6583ef20a7c40eb9f2f727bb34339ad\");\n",
       "    }\n",
       "    const paths = {\n",
       "      \"vega\": \"https://cdn.jsdelivr.net/npm//vega@5?noext\",\n",
       "      \"vega-lib\": \"https://cdn.jsdelivr.net/npm//vega-lib?noext\",\n",
       "      \"vega-lite\": \"https://cdn.jsdelivr.net/npm//vega-lite@4.8.1?noext\",\n",
       "      \"vega-embed\": \"https://cdn.jsdelivr.net/npm//vega-embed@6?noext\",\n",
       "    };\n",
       "\n",
       "    function loadScript(lib) {\n",
       "      return new Promise(function(resolve, reject) {\n",
       "        var s = document.createElement('script');\n",
       "        s.src = paths[lib];\n",
       "        s.async = true;\n",
       "        s.onload = () => resolve(paths[lib]);\n",
       "        s.onerror = () => reject(`Error loading script: ${paths[lib]}`);\n",
       "        document.getElementsByTagName(\"head\")[0].appendChild(s);\n",
       "      });\n",
       "    }\n",
       "\n",
       "    function showError(err) {\n",
       "      outputDiv.innerHTML = `<div class=\"error\" style=\"color:red;\">${err}</div>`;\n",
       "      throw err;\n",
       "    }\n",
       "\n",
       "    function displayChart(vegaEmbed) {\n",
       "      vegaEmbed(outputDiv, spec, embedOpt)\n",
       "        .catch(err => showError(`Javascript Error: ${err.message}<br>This usually means there's a typo in your chart specification. See the javascript console for the full traceback.`));\n",
       "    }\n",
       "\n",
       "    if(typeof define === \"function\" && define.amd) {\n",
       "      requirejs.config({paths});\n",
       "      require([\"vega-embed\"], displayChart, err => showError(`Error loading script: ${err.message}`));\n",
       "    } else if (typeof vegaEmbed === \"function\") {\n",
       "      displayChart(vegaEmbed);\n",
       "    } else {\n",
       "      loadScript(\"vega\")\n",
       "        .then(() => loadScript(\"vega-lite\"))\n",
       "        .then(() => loadScript(\"vega-embed\"))\n",
       "        .catch(showError)\n",
       "        .then(() => displayChart(vegaEmbed));\n",
       "    }\n",
       "  })({\"config\": {\"view\": {\"continuousWidth\": 400, \"continuousHeight\": 300, \"strokeWidth\": 0}, \"axisLeft\": {\"labelColor\": \"rgb(117,117,117)\", \"labelFont\": \"Arial\", \"labelFontSize\": 16}, \"title\": {\"align\": \"center\", \"baseline\": \"middle\", \"color\": \"rgb(117,117,117)\", \"font\": \"Arial\", \"fontSize\": 20, \"fontWeight\": \"bold\"}}, \"layer\": [{\"data\": {\"name\": \"data-2877b248c93196b56da8c0b23bb53c1d\"}, \"mark\": {\"type\": \"rule\", \"stroke\": \"rgb(117,117,117)\", \"strokeWidth\": 1.25, \"tooltip\": \"\"}, \"encoding\": {\"x\": {\"type\": \"quantitative\", \"field\": \"start\", \"scale\": {\"domain\": [0, 1], \"range\": [40.0, 760.0]}}, \"x2\": {\"field\": \"end\"}, \"y\": {\"type\": \"nominal\", \"axis\": {\"domain\": false, \"labelAngle\": 0, \"labelPadding\": -30, \"orient\": \"left\", \"ticks\": false, \"title\": \"\"}, \"field\": \"y_position\", \"scale\": {\"domain\": [\"TPR\"], \"range\": [17.5, 157.5]}}}}, {\"data\": {\"name\": \"data-6cfe259518f6c7b358d8f836a73e6b7f\"}, \"mark\": {\"type\": \"rule\", \"stroke\": \"rgb(117,117,117)\", \"strokeWidth\": 1.25, \"tooltip\": \"\"}, \"encoding\": {\"x\": {\"type\": \"quantitative\", \"field\": \"x_position\", \"scale\": {\"domain\": [0, 1], \"range\": [40.0, 760.0]}}, \"y\": {\"value\": 17.5}, \"y2\": {\"value\": 157.5}}}, {\"data\": {\"name\": \"data-60ed1133fa688d151d36705a369482e0\"}, \"mark\": {\"type\": \"text\", \"align\": \"center\", \"color\": \"rgb(117,117,117)\", \"font\": \"Arial\", \"fontSize\": 12, \"fontWeight\": \"normal\", \"tooltip\": \"\"}, \"encoding\": {\"text\": {\"type\": \"nominal\", \"field\": \"value\"}, \"x\": {\"type\": \"quantitative\", \"field\": \"value\", \"scale\": {\"domain\": [0, 1], \"range\": [40.0, 760.0]}}, \"y\": {\"value\": 12.25}}}, {\"layer\": [{\"mark\": {\"type\": \"rect\", \"opacity\": 0.8, \"stroke\": \"rgb(217, 46, 28)\", \"strokeWidth\": 1.25, \"tooltip\": \"\"}, \"encoding\": {\"x\": {\"type\": \"quantitative\", \"field\": \"lower_threshold_value\", \"scale\": {\"domain\": [0, 1], \"range\": [40.0, 760.0]}}, \"x2\": {\"field\": \"lower_threshold_value\"}, \"y\": {\"type\": \"nominal\", \"axis\": {\"domain\": false, \"grid\": false, \"labels\": false, \"ticks\": false, \"title\": \" \"}, \"field\": \"metric\", \"scale\": {\"domain\": [\"TPR\"], \"range\": [17.5, 157.5]}}}}, {\"mark\": {\"type\": \"rect\", \"opacity\": 0.8, \"stroke\": \"rgb(217, 46, 28)\", \"strokeWidth\": 1.25, \"tooltip\": \"\"}, \"encoding\": {\"x\": {\"type\": \"quantitative\", \"field\": \"upper_threshold_value\", \"scale\": {\"domain\": [0, 1], \"range\": [40.0, 760.0]}}, \"x2\": {\"field\": \"upper_threshold_value\"}, \"y\": {\"type\": \"nominal\", \"axis\": {\"domain\": false, \"grid\": false, \"labels\": false, \"ticks\": false, \"title\": \" \"}, \"field\": \"metric\", \"scale\": {\"domain\": [\"TPR\"], \"range\": [17.5, 157.5]}}}}, {\"layer\": [{\"mark\": {\"type\": \"rect\", \"fill\": \"rgb(217, 46, 28)\", \"opacity\": 0.1, \"tooltip\": \"\"}, \"encoding\": {\"x\": {\"type\": \"quantitative\", \"field\": \"lower_threshold_value\", \"scale\": {\"domain\": [0, 1], \"range\": [40.0, 760.0]}}, \"x2\": {\"field\": \"lower_end\"}, \"y\": {\"type\": \"nominal\", \"axis\": {\"domain\": false, \"grid\": false, \"labels\": false, \"ticks\": false, \"title\": \" \"}, \"field\": \"metric\", \"scale\": {\"domain\": [\"TPR\"], \"range\": [17.5, 157.5]}}}}, {\"mark\": {\"type\": \"rect\", \"fill\": \"rgb(217, 46, 28)\", \"opacity\": 0.1, \"tooltip\": \"\"}, \"encoding\": {\"x\": {\"type\": \"quantitative\", \"field\": \"upper_threshold_value\", \"scale\": {\"domain\": [0, 1], \"range\": [40.0, 760.0]}}, \"x2\": {\"field\": \"upper_end\"}, \"y\": {\"type\": \"nominal\", \"axis\": {\"domain\": false, \"grid\": false, \"labels\": false, \"ticks\": false, \"title\": \" \"}, \"field\": \"metric\", \"scale\": {\"domain\": [\"TPR\"], \"range\": [17.5, 157.5]}}}}]}, {\"data\": {\"name\": \"data-79dd248bdaa0ea02c535240e8ad022c8\"}, \"mark\": {\"type\": \"text\", \"align\": \"left\", \"baseline\": \"top\", \"fill\": \"rgb(217, 46, 28)\", \"font\": \"Arial\", \"fontSize\": 12, \"fontWeight\": \"normal\", \"tooltip\": \"\"}, \"encoding\": {\"text\": {\"value\": \"The metric value for any group should not be 1.1 (or more) times smaller or larger than that of the reference group Black.\"}, \"x\": {\"value\": 0}, \"y\": {\"value\": 163.33333333333334}}}], \"data\": {\"name\": \"data-e8d792e24d6cf7ec637d51842338bcd9\"}}, {\"layer\": [{\"mark\": \"circle\"}, {\"data\": {\"name\": \"data-2078a4c0fcf4e4b3e9839a676b428900\"}, \"mark\": {\"type\": \"circle\", \"opacity\": 0.2}, \"encoding\": {\"color\": {\"condition\": {\"type\": \"nominal\", \"field\": \"attribute_value\", \"legend\": null, \"scale\": {\"domain\": [\"Black\", \"White\"], \"range\": [\"rgb(117,117,117)\", \"rgb(100, 143, 255)\", \"rgb(254, 97, 0)\", \"rgb(220, 38, 127)\", \"rgb(255, 176, 0)\", \"rgb(120, 94, 240)\"]}, \"selection\": \"selector013\"}, \"value\": \"rgb(224,224,224)\"}, \"size\": {\"type\": \"quantitative\", \"field\": \"group_size\", \"legend\": null, \"scale\": {\"domain\": [0, 2150.4], \"range\": [0, 3848.4510006474966]}}, \"tooltip\": [{\"type\": \"nominal\", \"field\": \"attribute_value\", \"title\": \"Group\"}, {\"type\": \"nominal\", \"field\": \"tooltip_group_size\", \"title\": \"Group Size\"}, {\"type\": \"nominal\", \"field\": \"tooltip_disparity_explanation_tpr\", \"title\": \"Disparity\"}, {\"type\": \"quantitative\", \"field\": \"tpr\", \"format\": \".2f\", \"title\": \"TPR\"}], \"x\": {\"type\": \"quantitative\", \"axis\": {\"domain\": false, \"labels\": false, \"ticks\": false, \"title\": null, \"values\": [0.25, 0.5, 0.75]}, \"field\": \"tpr\", \"scale\": {\"domain\": [0, 1], \"range\": [40.0, 760.0]}}, \"y\": {\"type\": \"nominal\", \"axis\": {\"domain\": false, \"grid\": false, \"labels\": false, \"ticks\": false, \"title\": \" \"}, \"field\": \"metric_variable\", \"scale\": {\"domain\": [\"TPR\"], \"range\": [17.5, 157.5]}}}, \"selection\": {\"selector015\": {\"type\": \"multi\", \"empty\": \"all\", \"fields\": [\"attribute_value\"]}}, \"transform\": [{\"calculate\": \"'TPR'\", \"as\": \"metric_variable\"}]}, {\"layer\": [{\"mark\": \"point\"}, {\"data\": {\"name\": \"data-2078a4c0fcf4e4b3e9839a676b428900\"}, \"mark\": {\"type\": \"point\", \"filled\": true, \"size\": 60}, \"encoding\": {\"color\": {\"condition\": {\"type\": \"nominal\", \"field\": \"attribute_value\", \"legend\": null, \"scale\": {\"domain\": [\"Black\", \"White\"], \"range\": [\"rgb(117,117,117)\", \"rgb(100, 143, 255)\", \"rgb(254, 97, 0)\", \"rgb(220, 38, 127)\", \"rgb(255, 176, 0)\", \"rgb(120, 94, 240)\"]}, \"selection\": \"selector013\"}, \"value\": \"rgb(224,224,224)\"}, \"shape\": {\"type\": \"nominal\", \"field\": \"attribute_value\", \"legend\": null, \"scale\": {\"domain\": [\"Black\", \"White\"], \"range\": [\"cross\", \"circle\"]}}, \"tooltip\": [{\"type\": \"nominal\", \"field\": \"attribute_value\", \"title\": \"Group\"}, {\"type\": \"nominal\", \"field\": \"tooltip_group_size\", \"title\": \"Group Size\"}, {\"type\": \"nominal\", \"field\": \"tooltip_disparity_explanation_tpr\", \"title\": \"Disparity\"}, {\"type\": \"quantitative\", \"field\": \"tpr\", \"format\": \".2f\", \"title\": \"TPR\"}], \"x\": {\"type\": \"quantitative\", \"axis\": {\"domain\": false, \"labels\": false, \"ticks\": false, \"title\": null, \"values\": [0.25, 0.5, 0.75]}, \"field\": \"tpr\", \"scale\": {\"domain\": [0, 1], \"range\": [40.0, 760.0]}}, \"y\": {\"type\": \"nominal\", \"axis\": {\"domain\": false, \"grid\": false, \"labels\": false, \"ticks\": false, \"title\": \" \"}, \"field\": \"metric_variable\", \"scale\": {\"domain\": [\"TPR\"], \"range\": [17.5, 157.5]}}}, \"selection\": {\"selector014\": {\"type\": \"multi\", \"empty\": \"all\", \"fields\": [\"attribute_value\"]}}, \"transform\": [{\"calculate\": \"'TPR'\", \"as\": \"metric_variable\"}]}]}]}, {\"layer\": [{\"mark\": {\"type\": \"point\", \"filled\": true, \"opacity\": 1, \"size\": 39.47841760435743}, \"encoding\": {\"color\": {\"condition\": {\"type\": \"nominal\", \"field\": \"attribute_value\", \"legend\": null, \"scale\": {\"domain\": [\"Black\", \"White\"], \"range\": [\"rgb(117,117,117)\", \"rgb(100, 143, 255)\", \"rgb(254, 97, 0)\", \"rgb(220, 38, 127)\", \"rgb(255, 176, 0)\", \"rgb(120, 94, 240)\"]}, \"selection\": \"selector013\"}, \"value\": \"rgb(224,224,224)\"}, \"shape\": {\"type\": \"nominal\", \"field\": \"attribute_value\", \"legend\": null, \"scale\": {\"domain\": [\"Black\", \"White\"], \"range\": [\"cross\", \"circle\"]}}, \"x\": {\"value\": 804}, \"y\": {\"type\": \"nominal\", \"axis\": {\"domain\": false, \"grid\": false, \"labels\": false, \"ticks\": false, \"title\": \" \"}, \"field\": \"attribute_value\", \"scale\": {\"domain\": [\"Black\", \"White\"], \"range\": [71, 125]}}}, \"selection\": {\"selector013\": {\"type\": \"multi\", \"empty\": \"all\", \"fields\": [\"attribute_value\"]}}}, {\"mark\": {\"type\": \"text\", \"align\": \"left\", \"baseline\": \"middle\", \"font\": \"Arial\", \"fontSize\": 12, \"fontWeight\": \"normal\"}, \"encoding\": {\"color\": {\"condition\": {\"type\": \"nominal\", \"field\": \"attribute_value\", \"legend\": null, \"scale\": {\"domain\": [\"Black\", \"White\"], \"range\": [\"rgb(117,117,117)\", \"rgb(100, 143, 255)\", \"rgb(254, 97, 0)\", \"rgb(220, 38, 127)\", \"rgb(255, 176, 0)\", \"rgb(120, 94, 240)\"]}, \"selection\": \"selector013\"}, \"value\": \"rgb(224,224,224)\"}, \"text\": {\"type\": \"nominal\", \"field\": \"label\"}, \"x\": {\"value\": 812}, \"y\": {\"type\": \"nominal\", \"axis\": {\"domain\": false, \"grid\": false, \"labels\": false, \"ticks\": false, \"title\": \" \"}, \"field\": \"attribute_value\", \"scale\": {\"domain\": [\"Black\", \"White\"], \"range\": [71, 125]}}}, \"selection\": {\"selector016\": {\"type\": \"multi\", \"empty\": \"all\", \"fields\": [\"attribute_value\"]}}}, {\"data\": {\"name\": \"data-79dd248bdaa0ea02c535240e8ad022c8\"}, \"mark\": {\"type\": \"text\", \"align\": \"left\", \"baseline\": \"middle\", \"color\": \"rgb(117,117,117)\", \"font\": \"Arial\", \"fontSize\": 12, \"fontWeight\": \"normal\"}, \"encoding\": {\"text\": {\"value\": \"Click to highlight a group.\"}, \"x\": {\"value\": 800}, \"y\": {\"value\": 49}}}, {\"data\": {\"name\": \"data-79dd248bdaa0ea02c535240e8ad022c8\"}, \"mark\": {\"type\": \"text\", \"align\": \"left\", \"baseline\": \"middle\", \"color\": \"rgb(117,117,117)\", \"font\": \"Arial\", \"fontSize\": 14, \"fontWeight\": \"normal\"}, \"encoding\": {\"text\": {\"value\": \"Groups\"}, \"x\": {\"value\": 800}, \"y\": {\"value\": 30}}}], \"data\": {\"name\": \"data-b3507041cc32a6b0d7dedcfcdb3a7f4c\"}}], \"height\": 175, \"padding\": {\"top\": 15, \"bottom\": 10}, \"resolve\": {\"scale\": {\"size\": \"independent\", \"y\": \"independent\"}}, \"title\": \"Absolute values by Race\", \"width\": 800, \"$schema\": \"https://vega.github.io/schema/vega-lite/v4.8.1.json\", \"datasets\": {\"data-2877b248c93196b56da8c0b23bb53c1d\": [{\"y_position\": \"TPR\", \"start\": 0, \"end\": 1}], \"data-6cfe259518f6c7b358d8f836a73e6b7f\": [{\"x_position\": 0}, {\"x_position\": 1}], \"data-60ed1133fa688d151d36705a369482e0\": [{\"value\": 0.0}, {\"value\": 0.25}, {\"value\": 0.5}, {\"value\": 0.75}, {\"value\": 1.0}], \"data-e8d792e24d6cf7ec637d51842338bcd9\": [{\"lower_end\": 0, \"upper_end\": 1, \"lower_threshold_value\": 0.808080808080808, \"upper_threshold_value\": 0.9777777777777779, \"metric\": \"TPR\"}], \"data-79dd248bdaa0ea02c535240e8ad022c8\": [{\"a\": 1, \"b\": 0}, {\"a\": 1, \"b\": 0}], \"data-2078a4c0fcf4e4b3e9839a676b428900\": [{\"attribute_name\": \"Race\", \"attribute_value\": \"Black\", \"group_size\": 270, \"total_entities\": 2062, \"tpr\": 0.8888888888888888, \"tpr_disparity\": 1.0, \"tpr_disparity_scaled\": 0.0, \"tooltip_group_size\": \"270 (13.09%)\", \"tooltip_disparity_explanation_tpr\": \"Reference group\"}, {\"attribute_name\": \"Race\", \"attribute_value\": \"White\", \"group_size\": 1792, \"total_entities\": 2062, \"tpr\": 0.9121114683815649, \"tpr_disparity\": 1.0261254019292605, \"tpr_disparity_scaled\": 0.026125401929260494, \"tooltip_group_size\": \"1,792 (86.91%)\", \"tooltip_disparity_explanation_tpr\": \"1.03 times larger TPR than the reference group\"}], \"data-b3507041cc32a6b0d7dedcfcdb3a7f4c\": [{\"attribute_value\": \"Black\", \"label\": \"Black [REF]\"}, {\"attribute_value\": \"White\", \"label\": \"White\"}]}}, {\"mode\": \"vega-lite\"});\n",
       "</script>"
      ],
      "text/plain": [
       "alt.LayerChart(...)"
      ]
     },
     "execution_count": 34,
     "metadata": {},
     "output_type": "execute_result"
    }
   ],
   "source": [
    "ap.absolute(bdf, metrics, 'Race', fairness_threshold = disparity_tolerance)"
   ]
  }
 ],
 "metadata": {
  "kernelspec": {
   "display_name": "Python 3.9.7 ('stability_exp_aequitas_env')",
   "language": "python",
   "name": "python3"
  },
  "language_info": {
   "codemirror_mode": {
    "name": "ipython",
    "version": 3
   },
   "file_extension": ".py",
   "mimetype": "text/x-python",
   "name": "python",
   "nbconvert_exporter": "python",
   "pygments_lexer": "ipython3",
   "version": "3.9.7"
  },
  "orig_nbformat": 4,
  "vscode": {
   "interpreter": {
    "hash": "4f698ac1f1bef5e22b118550824cba4105840ec8ef6569edbd7aacc41ca2b93f"
   }
  }
 },
 "nbformat": 4,
 "nbformat_minor": 2
}
