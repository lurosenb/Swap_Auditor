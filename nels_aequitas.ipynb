{
 "cells": [
  {
   "cell_type": "code",
   "execution_count": null,
   "metadata": {},
   "outputs": [],
   "source": []
  }
 ],
 "metadata": {
  "kernelspec": {
   "display_name": "Python 3.6.13 ('swap_auditor_env')",
   "language": "python",
   "name": "python3"
  },
  "language_info": {
   "name": "python",
   "version": "3.6.13"
  },
  "orig_nbformat": 4,
  "vscode": {
   "interpreter": {
    "hash": "ec361b826952c91fcd6a2f006f53d3db358ee277d7b1be0ae164176756d50156"
   }
  }
 },
 "nbformat": 4,
 "nbformat_minor": 2
}
